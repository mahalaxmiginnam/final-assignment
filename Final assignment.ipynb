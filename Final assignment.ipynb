{
  "metadata": {
    "language_info": {
      "codemirror_mode": {
        "name": "python",
        "version": 3
      },
      "file_extension": ".py",
      "mimetype": "text/x-python",
      "name": "python",
      "nbconvert_exporter": "python",
      "pygments_lexer": "ipython3",
      "version": "3.8"
    },
    "kernelspec": {
      "name": "python",
      "display_name": "Pyolite",
      "language": "python"
    }
  },
  "nbformat_minor": 4,
  "nbformat": 4,
  "cells": [
    {
      "cell_type": "markdown",
      "source": "#  My Jupyter Notebook on IBM Watson Studio",
      "metadata": {
        "tags": []
      }
    },
    {
      "cell_type": "markdown",
      "source": "<b>Ginnam Mahalaxmi<b/> \n<br>I Desired to become Data scientist.<br>\n",
      "metadata": {}
    },
    {
      "cell_type": "markdown",
      "source": "<i>I love data science because it is really creates an immense exitement and fun working.</i>  \n\n",
      "metadata": {}
    },
    {
      "cell_type": "markdown",
      "source": " ### Print 1+1.\n\n ",
      "metadata": {}
    },
    {
      "cell_type": "code",
      "source": "1+1\n    ",
      "metadata": {
        "trusted": true
      },
      "execution_count": 9,
      "outputs": [
        {
          "execution_count": 9,
          "output_type": "execute_result",
          "data": {
            "text/plain": "2"
          },
          "metadata": {}
        }
      ]
    },
    {
      "cell_type": "markdown",
      "source": "\n\nThe founder of IBM is  Charles Ranlett Flint\n***\n\n*  Their first large contract was to provide tabulating equipment for the tabulation and analysis of the 1890 US census.\n\n***\n| year | 1911 |\n| --- | --- | \n| IBM | International Business Machines | \n\n\nFollow more about IBM at (https://www.ibm.com/in-en)\n",
      "metadata": {}
    },
    {
      "cell_type": "code",
      "source": "",
      "metadata": {},
      "execution_count": null,
      "outputs": []
    }
  ]
}